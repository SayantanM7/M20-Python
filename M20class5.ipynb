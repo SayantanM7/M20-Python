{
  "nbformat": 4,
  "nbformat_minor": 0,
  "metadata": {
    "colab": {
      "provenance": []
    },
    "kernelspec": {
      "name": "python3",
      "display_name": "Python 3"
    },
    "language_info": {
      "name": "python"
    }
  },
  "cells": [
    {
      "cell_type": "markdown",
      "source": [
        "Advanced functions- Zip elements of two lists"
      ],
      "metadata": {
        "id": "wVFea5ZpNZFE"
      }
    },
    {
      "cell_type": "code",
      "source": [
        "s1 = {2, 3, 1}\n",
        "s2 = {'b', 'a', 'c'}\n",
        "s3 = list(zip(s1, s2))\n",
        "print(s3,\"\\n\")\n",
        "\n",
        "\n",
        "# Zip elements of two lists\n",
        "# Print elements one by one, but elements of 2nd list will be in reverse order\n",
        "list1 = [10, 20, 30, 40]\n",
        "list2 = [100, 200, 300, 400]\n",
        "\n",
        "for x, y in zip(list1, list2[::-1]):\n",
        "    print(x, y)\n",
        "\n",
        "\n",
        "# Zip into dictionary\n",
        "stocks = ['reliance', 'infosys', 'tcs']\n",
        "prices = [2175, 1127, 2750]\n",
        "\n",
        "new_dict = {stocks: prices for stocks,\n",
        "\t\t\tprices in zip(stocks, prices)}\n",
        "print('\\n{}'.format(new_dict))\n"
      ],
      "metadata": {
        "colab": {
          "base_uri": "https://localhost:8080/"
        },
        "id": "EdYhZQPHNeA5",
        "outputId": "012f5680-d17d-483b-81c7-c79ef43e267e"
      },
      "execution_count": 19,
      "outputs": [
        {
          "output_type": "stream",
          "name": "stdout",
          "text": [
            "[(1, 'c'), (2, 'b'), (3, 'a')] \n",
            "\n",
            "10 400\n",
            "20 300\n",
            "30 200\n",
            "40 100\n",
            "\n",
            "{'reliance': 2175, 'infosys': 1127, 'tcs': 2750}\n"
          ]
        }
      ]
    },
    {
      "cell_type": "markdown",
      "source": [
        "Exit"
      ],
      "metadata": {
        "id": "qWXvslEjNlCr"
      }
    },
    {
      "cell_type": "code",
      "source": [
        "# Python program to demonstrate\n",
        "# exit()\n",
        "\n",
        "for i in range(10):\n",
        "\n",
        "\t# If the value of i becomes\n",
        "\t# 5 then the program is forced\n",
        "\t# to exit\n",
        "\tif i == 5:\n",
        "\n",
        "\t\t# prints the exit message\n",
        "\t\tprint(exit)\n",
        "\t\texit()\n",
        "\tprint(i)\n"
      ],
      "metadata": {
        "colab": {
          "base_uri": "https://localhost:8080/"
        },
        "id": "2YsJCIXdNmAB",
        "outputId": "c68b1bb0-2b09-4d99-c467-6164ce73165b"
      },
      "execution_count": 20,
      "outputs": [
        {
          "output_type": "stream",
          "name": "stdout",
          "text": [
            "0\n",
            "1\n",
            "2\n",
            "3\n",
            "4\n",
            "<IPython.core.autocall.ZMQExitAutocall object at 0x78a3fc0b02e0>\n",
            "5\n",
            "6\n",
            "7\n",
            "8\n",
            "9\n"
          ]
        }
      ]
    }
  ]
}