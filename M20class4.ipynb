{
  "nbformat": 4,
  "nbformat_minor": 0,
  "metadata": {
    "colab": {
      "provenance": []
    },
    "kernelspec": {
      "name": "python3",
      "display_name": "Python 3"
    },
    "language_info": {
      "name": "python"
    }
  },
  "cells": [
    {
      "cell_type": "markdown",
      "source": [
        "set operations"
      ],
      "metadata": {
        "id": "HyB357nfMns6"
      }
    },
    {
      "cell_type": "code",
      "source": [
        "# Different types of sets in Python\n",
        "# set of integers\n",
        "my_set = {1, 2, 3}\n",
        "print(my_set)\n",
        "\n",
        "# set of mixed datatypes\n",
        "my_set = {1.0, \"Hello\", (1, 2, 3)}\n",
        "print(my_set)\n",
        "\n",
        "# set cannot have duplicates\n",
        "my_set = {1, 2, 3, 4, 3, 2}\n",
        "print(my_set)\n",
        "\n",
        "# we can make set from a list\n",
        "my_set = set([1, 2, 3, 2])\n",
        "print(my_set,\"\\n\")\n",
        "\n",
        "#remove a number from a set\n",
        "num_set = set([0, 1, 3, 4, 5])\n",
        "print(\"Original set:\")\n",
        "print(num_set)\n",
        "num_set.pop()\n",
        "print(\"After removing the first element from the said set:\")\n",
        "print(num_set,\"\\n\")"
      ],
      "metadata": {
        "colab": {
          "base_uri": "https://localhost:8080/"
        },
        "id": "NOfBd1OBMpMh",
        "outputId": "af192381-cc76-4245-aad6-5e15c11f8e10"
      },
      "execution_count": 15,
      "outputs": [
        {
          "output_type": "stream",
          "name": "stdout",
          "text": [
            "{1, 2, 3}\n",
            "{1.0, 'Hello', (1, 2, 3)}\n",
            "{1, 2, 3, 4}\n",
            "{1, 2, 3} \n",
            "\n",
            "Original set:\n",
            "{0, 1, 3, 4, 5}\n",
            "After removing the first element from the said set:\n",
            "{1, 3, 4, 5} \n",
            "\n"
          ]
        }
      ]
    },
    {
      "cell_type": "markdown",
      "source": [
        "set intersect"
      ],
      "metadata": {
        "id": "eL_QsyoTMuaL"
      }
    },
    {
      "cell_type": "code",
      "source": [
        "setx = {\"green\", \"blue\"}\n",
        "sety = {\"blue\", \"yellow\"}\n",
        "print(\"Original set elements:\")\n",
        "print(setx)\n",
        "print(sety)\n",
        "print(\"\\nIntersection of two said sets:\")\n",
        "setz = setx.intersection(sety)\n",
        "print(setz)\n"
      ],
      "metadata": {
        "colab": {
          "base_uri": "https://localhost:8080/"
        },
        "id": "KGeJoSLVMv9R",
        "outputId": "e53e1134-1ad5-4393-f601-b4dd95bd29f4"
      },
      "execution_count": 16,
      "outputs": [
        {
          "output_type": "stream",
          "name": "stdout",
          "text": [
            "Original set elements:\n",
            "{'green', 'blue'}\n",
            "{'yellow', 'blue'}\n",
            "\n",
            "Intersection of two said sets:\n",
            "{'blue'}\n"
          ]
        }
      ]
    },
    {
      "cell_type": "markdown",
      "source": [
        "arrays"
      ],
      "metadata": {
        "id": "sESZjYLkMx8p"
      }
    },
    {
      "cell_type": "code",
      "source": [
        "import array as arr\n",
        "\n",
        "# create an array\n",
        "array_num = arr.array('i', [1, 3, 5, 3, 7, 9, 3])\n",
        "print(\"Original array: \"+str(array_num))\n",
        "\n",
        "# count number of occurences\n",
        "print(\"Number of occurrences of the number 3 in the said array: \"+str(array_num.count(3)))\n",
        "\n",
        "# reverse the array\n",
        "array_num.reverse()\n",
        "print(\"Reverse the order of the items:\")\n",
        "print(str(array_num))"
      ],
      "metadata": {
        "colab": {
          "base_uri": "https://localhost:8080/"
        },
        "id": "_i0od-67M4xK",
        "outputId": "17d7d712-42b2-4512-8b34-63254ca3b241"
      },
      "execution_count": 17,
      "outputs": [
        {
          "output_type": "stream",
          "name": "stdout",
          "text": [
            "Original array: array('i', [1, 3, 5, 3, 7, 9, 3])\n",
            "Number of occurrences of the number 3 in the said array: 3\n",
            "Reverse the order of the items:\n",
            "array('i', [3, 9, 7, 3, 5, 3, 1])\n"
          ]
        }
      ]
    },
    {
      "cell_type": "markdown",
      "source": [
        "Frozen set"
      ],
      "metadata": {
        "id": "YCM2KgYUM-1R"
      }
    },
    {
      "cell_type": "code",
      "source": [
        "x = frozenset([1, 2, 3, 4, 5])\n",
        "y = frozenset([3, 4, 5, 6, 7])\n",
        "\n",
        "#use isdisjoint(). Return True if the set has no elements in common with other.\n",
        "print(x.isdisjoint(y))\n",
        "\n",
        "#use difference(). Return a new set with elements in the set that are not in the others.\n",
        "print(x.difference(y))\n",
        "\n",
        "#new set with elements from both x and y\n",
        "print(x | y)"
      ],
      "metadata": {
        "colab": {
          "base_uri": "https://localhost:8080/"
        },
        "id": "q5WUrwo8NBrC",
        "outputId": "bba03b96-88c3-4d06-e854-43d3a41f1a10"
      },
      "execution_count": 18,
      "outputs": [
        {
          "output_type": "stream",
          "name": "stdout",
          "text": [
            "False\n",
            "frozenset({1, 2})\n",
            "frozenset({1, 2, 3, 4, 5, 6, 7})\n"
          ]
        }
      ]
    }
  ]
}