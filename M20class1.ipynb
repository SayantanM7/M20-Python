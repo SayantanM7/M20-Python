{
  "nbformat": 4,
  "nbformat_minor": 0,
  "metadata": {
    "colab": {
      "provenance": []
    },
    "kernelspec": {
      "name": "python3",
      "display_name": "Python 3"
    },
    "language_info": {
      "name": "python"
    }
  },
  "cells": [
    {
      "cell_type": "markdown",
      "source": [
        "\n",
        "**Operations on Lists **"
      ],
      "metadata": {
        "id": "fLAnxIymGXV4"
      }
    },
    {
      "cell_type": "code",
      "execution_count": 1,
      "metadata": {
        "colab": {
          "base_uri": "https://localhost:8080/"
        },
        "id": "ZA6OAfIVGRi2",
        "outputId": "fbf2d23a-00d9-46b2-ce3c-6eddb9d331ac"
      },
      "outputs": [
        {
          "output_type": "stream",
          "name": "stdout",
          "text": [
            "\n",
            "[1, 2, 3, 4, 5]\n",
            "[1, 2, 3, 1, 2, 3, 1, 2, 3]\n",
            "[500, 400, 300, 200, 100] \n",
            "\n"
          ]
        }
      ],
      "source": [
        "\n",
        "#Create an empty list\n",
        "empty_list = []\n",
        "print()\n",
        "\n",
        "# A list of numbers\n",
        "numbers = [1, 2, 3, 4, 5]\n",
        "print(numbers)\n",
        "\n",
        "# Use * operator\n",
        "triples = [1, 2, 3] * 3\n",
        "print(triples)\n",
        "\n",
        "#reverse the given list\n",
        "aList = [100, 200, 300, 400, 500]\n",
        "aList = aList[::-1]\n",
        "print(aList,\"\\n\")\n"
      ]
    },
    {
      "cell_type": "markdown",
      "source": [
        "Word matching"
      ],
      "metadata": {
        "id": "qm1Xk1GOGsYQ"
      }
    },
    {
      "cell_type": "code",
      "source": [
        "def match_words(words):\n",
        "\tctr = 0\n",
        "\tlst = []\n",
        "\tfor word in words:\n",
        "\t\tif len(word) > 1 and word[0] == word[-1]:\n",
        "\t\t\tctr += 1\n",
        "\t\t\tlst.append(word)\n",
        "\n",
        "\tprint(\"List of words with first and last character same\\n\", lst)\n",
        "\treturn ctr\n",
        "\n",
        "count = match_words(['abc', 'cfc','xyz', 'aba', '1221'])\n",
        "print(\"Number of words having first and last character same:\", count)\n"
      ],
      "metadata": {
        "colab": {
          "base_uri": "https://localhost:8080/"
        },
        "id": "ci2WH8cYGuAH",
        "outputId": "9aaf9ca1-e9d2-47bc-dd5d-2112e744d566"
      },
      "execution_count": 2,
      "outputs": [
        {
          "output_type": "stream",
          "name": "stdout",
          "text": [
            "List of words with first and last character same\n",
            " ['cfc', 'aba', '1221']\n",
            "Number of words having first and last character same: 3\n"
          ]
        }
      ]
    },
    {
      "cell_type": "markdown",
      "source": [
        "Sum and average"
      ],
      "metadata": {
        "id": "JaKlM9cyG0eY"
      }
    },
    {
      "cell_type": "code",
      "source": [
        "L = [4, 5, 1, 2, 9, 7, 10, 8]\n",
        "print(\"Original List :\", L)\n",
        "\n",
        "# variable to store the sum of\n",
        "# the list\n",
        "count = 0\n",
        "\n",
        "# Finding the sum\n",
        "for i in L:\n",
        "    count += i\n",
        "\n",
        "# divide the total elements by\n",
        "# number of elements\n",
        "avg = count/len(L)\n",
        "\n",
        "print(\"sum = \", count)\n",
        "print(\"average = \", avg)\n",
        "\n",
        "# Sorting the elements of the list\n",
        "L.sort()\n",
        "\n",
        "# printing the first element\n",
        "print(\"Smallest element is:\", L[0])\n",
        "\n",
        "# printing the last element\n",
        "print(\"Largest element is:\", L[-1])"
      ],
      "metadata": {
        "colab": {
          "base_uri": "https://localhost:8080/"
        },
        "id": "ITNM_xrvG2RO",
        "outputId": "88bc7933-46ad-4056-f143-a98c719617b5"
      },
      "execution_count": 3,
      "outputs": [
        {
          "output_type": "stream",
          "name": "stdout",
          "text": [
            "Original List : [4, 5, 1, 2, 9, 7, 10, 8]\n",
            "sum =  46\n",
            "average =  5.75\n",
            "Smallest element is: 1\n",
            "Largest element is: 10\n"
          ]
        }
      ]
    },
    {
      "cell_type": "markdown",
      "source": [
        "Zip the lists"
      ],
      "metadata": {
        "id": "_cAtIAY7G8Je"
      }
    },
    {
      "cell_type": "code",
      "source": [
        "s1 = {2, 3, 1}\n",
        "s2 = {'b', 'a', 'c'}\n",
        "s3 = list(zip(s1, s2))\n",
        "print(s3,\"\\n\")\n",
        "\n",
        "\n",
        "\n",
        "list1 = [10, 20, 30, 40]\n",
        "list2 = [100, 200, 300, 400]\n",
        "\n",
        "for x, y in zip(list1, list2[::-1]):\n",
        "    print(x, y)"
      ],
      "metadata": {
        "colab": {
          "base_uri": "https://localhost:8080/"
        },
        "id": "0sxgeOYpG7lu",
        "outputId": "368635e5-1367-4cd1-f173-bd8da6415241"
      },
      "execution_count": 4,
      "outputs": [
        {
          "output_type": "stream",
          "name": "stdout",
          "text": [
            "[(1, 'c'), (2, 'b'), (3, 'a')] \n",
            "\n",
            "10 400\n",
            "20 300\n",
            "30 200\n",
            "40 100\n"
          ]
        }
      ]
    }
  ]
}