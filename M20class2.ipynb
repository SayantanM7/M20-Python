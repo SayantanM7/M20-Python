{
  "nbformat": 4,
  "nbformat_minor": 0,
  "metadata": {
    "colab": {
      "provenance": []
    },
    "kernelspec": {
      "name": "python3",
      "display_name": "Python 3"
    },
    "language_info": {
      "name": "python"
    }
  },
  "cells": [
    {
      "cell_type": "markdown",
      "source": [
        "Tuple operations"
      ],
      "metadata": {
        "id": "rES0WRgLHW7X"
      }
    },
    {
      "cell_type": "code",
      "source": [
        "#Create a tuple with different data types\n",
        "tuplex = (\"tuple\", False, 3.2, 1)\n",
        "print(tuplex)\n",
        "\n",
        "#create a tuple\n",
        "tuplex = (4, 6, 2, 8, 3, 1)\n",
        "print(tuplex)\n",
        "#tuples are immutable, so you can not add new elements\n",
        "#using merge of tuples with the + operator you can add an element and it will create a new tuple\n",
        "tuplex = tuplex + (9,)\n",
        "print(tuplex)\n",
        "\n",
        "#Counts the number of occurrences of item 50 from a tuple\n",
        "tuple1 = (50, 10, 60, 70, 50)\n",
        "print(tuple1.count(50))\n",
        "\n",
        "#create a tuple\n",
        "tuplex = (2, 4, 3, 5, 4, 6, 7, 8, 6, 1)\n",
        "#used tuple[start:stop] the start index is inclusive and the stop index\n",
        "_slice = tuplex[3:5]\n",
        "#is exclusive\n",
        "print(_slice)\n",
        "#if the start index isn't defined, is taken from the beg inning of the tuple\n",
        "_slice = tuplex[:6]\n",
        "print(_slice)"
      ],
      "metadata": {
        "colab": {
          "base_uri": "https://localhost:8080/"
        },
        "id": "0CWWJwcnHY7-",
        "outputId": "2a563a5e-716e-4b67-c4d1-4682f419d02d"
      },
      "execution_count": 5,
      "outputs": [
        {
          "output_type": "stream",
          "name": "stdout",
          "text": [
            "('tuple', False, 3.2, 1)\n",
            "(4, 6, 2, 8, 3, 1)\n",
            "(4, 6, 2, 8, 3, 1, 9)\n",
            "2\n",
            "(5, 4)\n",
            "(2, 4, 3, 5, 4, 6)\n"
          ]
        }
      ]
    },
    {
      "cell_type": "markdown",
      "source": [
        "Flip flop"
      ],
      "metadata": {
        "id": "sZO5XP05He36"
      }
    },
    {
      "cell_type": "code",
      "source": [
        "# function to check whether palindrome or not\n",
        "def palind(r):\n",
        "\te = len(r) -1\n",
        "\ts = 0\n",
        "\twhile(s<e):\n",
        "\t\tif(r[s]!=r[e]):\n",
        "\t\t\treturn False\n",
        "\t\ts+=1\n",
        "\t\te-=1\n",
        "\treturn True\n",
        "\n",
        "\n",
        "r = (1,2,3,3,2,1)\n",
        "\n",
        "if(palind(r)):\n",
        "\tprint(\"The Tuple is Flip-Flop\")\n",
        "else:\n",
        "\tprint(\"The Tuple is not Flip-Flop\")"
      ],
      "metadata": {
        "colab": {
          "base_uri": "https://localhost:8080/"
        },
        "id": "wEKf8D3oHg4d",
        "outputId": "086fbd01-8d5d-4f8d-fc61-1ebfaa4cb974"
      },
      "execution_count": 6,
      "outputs": [
        {
          "output_type": "stream",
          "name": "stdout",
          "text": [
            "The Tuple is Flip-Flop\n"
          ]
        }
      ]
    },
    {
      "cell_type": "markdown",
      "source": [
        "weather prediction"
      ],
      "metadata": {
        "id": "P25iaPtlHnhN"
      }
    },
    {
      "cell_type": "code",
      "source": [
        "weather=(1,0,0,0,1,1,0)\n",
        "sunny=0\n",
        "rainy=0\n",
        "for i in range(0,7):\n",
        "\tif(weather[i]==0):\n",
        "\t\trainy+=1\n",
        "\telse:\n",
        "\t\tsunny+=1\n",
        "\n",
        "if(sunny>rainy):\n",
        "\tprint(\"Good weather\")\n",
        "else:\n",
        "\tprint(\"Bad weather\")"
      ],
      "metadata": {
        "colab": {
          "base_uri": "https://localhost:8080/"
        },
        "id": "vkJQwGF4Hpom",
        "outputId": "36cfcc38-9729-483b-d2d0-34e9ca6586e2"
      },
      "execution_count": 7,
      "outputs": [
        {
          "output_type": "stream",
          "name": "stdout",
          "text": [
            "Bad weather\n"
          ]
        }
      ]
    },
    {
      "cell_type": "markdown",
      "source": [
        "Average using tuple"
      ],
      "metadata": {
        "id": "fAqMqF43H2p2"
      }
    },
    {
      "cell_type": "code",
      "source": [
        "def average_of_three(numbers):\n",
        "\n",
        "  if len(numbers) != 3:\n",
        "    raise ValueError(\"The tuple must contain exactly three numbers.\")\n",
        "\n",
        "  sum_of_numbers = sum(numbers)\n",
        "  average = sum_of_numbers / 3\n",
        "  return average\n",
        "\n",
        "my_tuple = (10, 20, 60)\n",
        "result = average_of_three(my_tuple)\n",
        "print(result)"
      ],
      "metadata": {
        "colab": {
          "base_uri": "https://localhost:8080/"
        },
        "id": "0TnjIdtZH4VF",
        "outputId": "74165139-d0a4-49fa-a64c-c567cfbc0537"
      },
      "execution_count": 11,
      "outputs": [
        {
          "output_type": "stream",
          "name": "stdout",
          "text": [
            "30.0\n"
          ]
        }
      ]
    }
  ]
}