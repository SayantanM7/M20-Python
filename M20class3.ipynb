{
  "nbformat": 4,
  "nbformat_minor": 0,
  "metadata": {
    "colab": {
      "provenance": []
    },
    "kernelspec": {
      "name": "python3",
      "display_name": "Python 3"
    },
    "language_info": {
      "name": "python"
    }
  },
  "cells": [
    {
      "cell_type": "markdown",
      "source": [
        "Remove duplicates"
      ],
      "metadata": {
        "id": "Rwayg1B8Ljv8"
      }
    },
    {
      "cell_type": "code",
      "source": [
        "student_data = {'id1':\n",
        "   {'name': ['Sara'],\n",
        "    'class': ['V'],\n",
        "    'subject_integration': ['english, math, science']\n",
        "   },\n",
        " 'id2':\n",
        "  {'name': ['David'],\n",
        "    'class': ['V'],\n",
        "    'subject_integration': ['english, math, science']\n",
        "   },\n",
        " 'id3':\n",
        "    {'name': ['Sara'],\n",
        "    'class': ['V'],\n",
        "    'subject_integration': ['english, math, science']\n",
        "   },\n",
        " 'id4':\n",
        "   {'name': ['Surya'],\n",
        "    'class': ['V'],\n",
        "    'subject_integration': ['english, math, science']\n",
        "   },\n",
        "}\n",
        "\n",
        "result = {}\n",
        "\n",
        "for key,value in student_data.items():\n",
        "    if value not in result.values():\n",
        "        result[key] = value\n",
        "\n",
        "print(result)"
      ],
      "metadata": {
        "colab": {
          "base_uri": "https://localhost:8080/"
        },
        "id": "mFXgSRm1Lxik",
        "outputId": "8ecfd333-2b84-453e-b90b-23e78bc47443"
      },
      "execution_count": 12,
      "outputs": [
        {
          "output_type": "stream",
          "name": "stdout",
          "text": [
            "{'id1': {'name': ['Sara'], 'class': ['V'], 'subject_integration': ['english, math, science']}, 'id2': {'name': ['David'], 'class': ['V'], 'subject_integration': ['english, math, science']}, 'id4': {'name': ['Surya'], 'class': ['V'], 'subject_integration': ['english, math, science']}}\n"
          ]
        }
      ]
    },
    {
      "cell_type": "markdown",
      "source": [
        "Check key frequency"
      ],
      "metadata": {
        "id": "XjrO-q2PL6FN"
      }
    },
    {
      "cell_type": "code",
      "source": [
        "# Initialize dictionary\n",
        "test_dict = {'Codingal' : 2, 'is' : 2, 'best' : 2, 'for' : 2, 'Coding' : 1}\n",
        "\n",
        "# printing original dictionary\n",
        "print(\"The original dictionary : \" +  str(test_dict))\n",
        "\n",
        "# Initialize value\n",
        "K = 2\n",
        "\n",
        "# Using loop\n",
        "# Selective key values in dictionary\n",
        "res = 0\n",
        "for key in test_dict:\n",
        "    if test_dict[key] == K:\n",
        "        res = res + 1\n",
        "\n",
        "# printing result\n",
        "print(\"Frequency of K is : \" + str(res))"
      ],
      "metadata": {
        "colab": {
          "base_uri": "https://localhost:8080/"
        },
        "id": "wAOcxF7NL8fE",
        "outputId": "7c310dee-68cb-4d57-9677-0364cb9f317c"
      },
      "execution_count": 13,
      "outputs": [
        {
          "output_type": "stream",
          "name": "stdout",
          "text": [
            "The original dictionary : {'Codingal': 2, 'is': 2, 'best': 2, 'for': 2, 'Coding': 1}\n",
            "Frequency of K is : 4\n"
          ]
        }
      ]
    },
    {
      "cell_type": "markdown",
      "source": [
        "Country code"
      ],
      "metadata": {
        "id": "H0t8fPcNMCmS"
      }
    },
    {
      "cell_type": "code",
      "source": [
        "country_code = {'India' : '0091',\n",
        "                'Australia' : '0025',\n",
        "                'Nepal' : '00977'}\n",
        "\n",
        "# search dictionary for country code of India\n",
        "print(\"Country code for India -\")\n",
        "print(country_code.get('India', 'Not Found'))\n",
        "\n",
        "# search dictionary for country code of Japan\n",
        "print(\"Country code for Japan -\")\n",
        "print(country_code.get('Japan', 'Not Found'))"
      ],
      "metadata": {
        "id": "Yob6IOP6MEWK"
      },
      "execution_count": null,
      "outputs": []
    },
    {
      "cell_type": "markdown",
      "source": [
        "Mirror"
      ],
      "metadata": {
        "id": "GPaA2W4uMO29"
      }
    },
    {
      "cell_type": "code",
      "source": [
        "def mirrorChars(input,k):\n",
        "\n",
        "    # create dictionary\n",
        "    original = 'abcdefghijklmnopqrstuvwxyz'\n",
        "    reverse = 'zyxwvutsrqponmlkjihgfedcba'\n",
        "    dictChars = dict(zip(original,reverse))\n",
        "\n",
        "    # separate out string after length k to change\n",
        "    # characters in mirror\n",
        "    prefix = input[0:k-1]\n",
        "    suffix = input[k-1:]\n",
        "    mirror = ''\n",
        "\n",
        "    # change into mirror\n",
        "    for i in range(0,len(suffix)):\n",
        "         mirror = mirror + dictChars[suffix[i]]\n",
        "\n",
        "    # concat prefix and mirrored part\n",
        "    print (prefix+mirror)\n",
        "\n",
        "# Driver program\n",
        "if __name__ == \"__main__\":\n",
        "    input = 'letter'\n",
        "    k = 3\n",
        "    mirrorChars(input,k)"
      ],
      "metadata": {
        "colab": {
          "base_uri": "https://localhost:8080/"
        },
        "id": "HocNWk4UMTs6",
        "outputId": "3574c4af-0db1-4ce7-cfd2-56d98f43d7d5"
      },
      "execution_count": 14,
      "outputs": [
        {
          "output_type": "stream",
          "name": "stdout",
          "text": [
            "leggvi\n"
          ]
        }
      ]
    }
  ]
}