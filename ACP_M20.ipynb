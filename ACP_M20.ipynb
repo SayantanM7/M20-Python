{
  "nbformat": 4,
  "nbformat_minor": 0,
  "metadata": {
    "colab": {
      "provenance": []
    },
    "kernelspec": {
      "name": "python3",
      "display_name": "Python 3"
    },
    "language_info": {
      "name": "python"
    }
  },
  "cells": [
    {
      "cell_type": "markdown",
      "source": [
        "Class 1 - Square it"
      ],
      "metadata": {
        "id": "a16OE6cdvw4U"
      }
    },
    {
      "cell_type": "code",
      "source": [
        "# Function to create list of square of numbers\n",
        "def SquaredValues(beg, end):\n",
        "\tlst = []\n",
        "\t# store all the values of square of numbers\n",
        "\t# between given range in a list\n",
        "\tfor i in range(beg, end):\n",
        "\t\t# append value to the list\n",
        "\t\tlst.append(i**2)\n",
        "\n",
        "\tlst_even = []\n",
        "\tlst_odd = []\n",
        "\n",
        "\t# check and store odd and even squares in seperate lists\n",
        "\tfor i in lst:\n",
        "\t\tif i%2==0:\n",
        "\t\t\t# append value to the list\n",
        "\t\t\tlst_even.append(i)\n",
        "\t\telse:\n",
        "\t\t\t# append value to the list\n",
        "\t\t\tlst_odd.append(i)\n",
        "\n",
        "\tprint(\"Here's a list of even squares within specified range\", lst_even)\n",
        "\tprint(\"Here's a list of odd squares within specified range\", lst_odd)\n",
        "\n",
        "# Take input from user for range of numbers\n",
        "beg = int(input(\"Enter starting range : \"))\n",
        "end = int(input(\"Enter end range : \"))\n",
        "\n",
        "# Function call\n",
        "SquaredValues(beg, end)\n",
        "\n",
        "\n"
      ],
      "metadata": {
        "colab": {
          "base_uri": "https://localhost:8080/"
        },
        "id": "p2vcf1ELwBie",
        "outputId": "4881410e-bb64-4b0a-e1bc-fce2ad706bf6"
      },
      "execution_count": 36,
      "outputs": [
        {
          "output_type": "stream",
          "name": "stdout",
          "text": [
            "Enter starting range : 1\n",
            "Enter end range : 10\n",
            "Here's a list of even squares within specified range [4, 16, 36, 64]\n",
            "Here's a list of odd squares within specified range [1, 9, 25, 49, 81]\n"
          ]
        }
      ]
    },
    {
      "cell_type": "markdown",
      "source": [
        "Class 2- Tuple product"
      ],
      "metadata": {
        "id": "9mCmICTiwKDr"
      }
    },
    {
      "cell_type": "code",
      "source": [
        "def mutiple_tuple(nums):\n",
        "    temp = list(nums)\n",
        "    product = 1\n",
        "    for x in temp:\n",
        "        product *= x\n",
        "    return product\n",
        "\n",
        "nums = (4, 3, 2, 2, -1, 18)\n",
        "print (\"Original Tuple: \")\n",
        "print(nums)\n",
        "print(\"Product - multiplying all the numbers of the said tuple:\",mutiple_tuple(nums))\n",
        "\n",
        "nums = (2, 4, 8, 8, 3, 2, 9)\n",
        "print (\"\\nOriginal Tuple: \")\n",
        "print(nums)\n",
        "print(\"Product - multiplying all the numbers of the said tuple:\",mutiple_tuple(nums))\n"
      ],
      "metadata": {
        "colab": {
          "base_uri": "https://localhost:8080/"
        },
        "id": "7YSyGno9wRSn",
        "outputId": "0cc67894-0dc9-42cb-c044-d0b8ce76333a"
      },
      "execution_count": 37,
      "outputs": [
        {
          "output_type": "stream",
          "name": "stdout",
          "text": [
            "Original Tuple: \n",
            "(4, 3, 2, 2, -1, 18)\n",
            "Product - multiplying all the numbers of the said tuple: -864\n",
            "\n",
            "Original Tuple: \n",
            "(2, 4, 8, 8, 3, 2, 9)\n",
            "Product - multiplying all the numbers of the said tuple: 27648\n"
          ]
        }
      ]
    },
    {
      "cell_type": "markdown",
      "source": [
        "Class 3 - Check frequency"
      ],
      "metadata": {
        "id": "aX6q2jMOwTp0"
      }
    },
    {
      "cell_type": "code",
      "source": [
        "test_dict = {'Codingal' : 3, 'is' : 2, 'best' : 2, 'for' : 2, 'Coding' : 1}\n",
        "print(\"The original dictionary : \" +  str(test_dict))\n",
        "\n",
        "# Initialize value\n",
        "K = int(input(\"Enter the number to check frequency in Test dictionary : \"))\n",
        "\n",
        "# Using loop\n",
        "# Selective key values in dictionary\n",
        "res = 0\n",
        "for key in test_dict:\n",
        "    if test_dict[key] == K:\n",
        "        res = res + 1\n",
        "\n",
        "# printing result\n",
        "print(\"Frequency of K is : \" + str(res))"
      ],
      "metadata": {
        "colab": {
          "base_uri": "https://localhost:8080/"
        },
        "id": "Kkhi05AbwZxS",
        "outputId": "daa9227e-8f10-47be-8d2a-beb3835e41ab"
      },
      "execution_count": 38,
      "outputs": [
        {
          "output_type": "stream",
          "name": "stdout",
          "text": [
            "The original dictionary : {'Codingal': 3, 'is': 2, 'best': 2, 'for': 2, 'Coding': 1}\n",
            "Enter the number to check frequency in Test dictionary : 2\n",
            "Frequency of K is : 3\n"
          ]
        }
      ]
    },
    {
      "cell_type": "markdown",
      "source": [
        "Class 4 - Symmetric difference"
      ],
      "metadata": {
        "id": "waGHztPywmjq"
      }
    },
    {
      "cell_type": "code",
      "source": [
        "def sym_difference(set1, set2):\n",
        "\tprint(\"\\nOriginal sets:\")\n",
        "\tprint(set1)\n",
        "\tprint(set2)\n",
        "\tresult = set1.symmetric_difference(set2)\n",
        "\tprint(\"\\nSymmetric difference of setc1 - setc2:\")\n",
        "\treturn result\n",
        "\n",
        "seta1 = set([\"green\", \"blue\"])\n",
        "seta2 = set([\"blue\", \"yellow\"])\n",
        "setb1 = set([1, 1, 2, 3, 4, 5])\n",
        "setb2 = set([1, 5, 6, 7, 8, 9])\n",
        "\n",
        "print(\"Result of A Sets\")\n",
        "sym_difference(seta1, seta2)\n",
        "print(\"Result of B Sets\")\n",
        "sym_difference(setb1, setb2)"
      ],
      "metadata": {
        "colab": {
          "base_uri": "https://localhost:8080/"
        },
        "id": "8wv9Istvwtts",
        "outputId": "c7853dc8-26b5-48bd-b535-ec70ded2774f"
      },
      "execution_count": 39,
      "outputs": [
        {
          "output_type": "stream",
          "name": "stdout",
          "text": [
            "Result of A Sets\n",
            "\n",
            "Original sets:\n",
            "{'blue', 'green'}\n",
            "{'blue', 'yellow'}\n",
            "\n",
            "Symmetric difference of setc1 - setc2:\n",
            "Result of B Sets\n",
            "\n",
            "Original sets:\n",
            "{1, 2, 3, 4, 5}\n",
            "{1, 5, 6, 7, 8, 9}\n",
            "\n",
            "Symmetric difference of setc1 - setc2:\n"
          ]
        },
        {
          "output_type": "execute_result",
          "data": {
            "text/plain": [
              "{2, 3, 4, 6, 7, 8, 9}"
            ]
          },
          "metadata": {},
          "execution_count": 39
        }
      ]
    },
    {
      "cell_type": "markdown",
      "source": [
        "Class 5 - List"
      ],
      "metadata": {
        "id": "YRxVYmcbwwJT"
      }
    },
    {
      "cell_type": "code",
      "source": [
        "num = int(input(\"You want odd and even numbers under what value? : \"))\n",
        "\n",
        "odd_list = [i for i in range(num) if i%2!=0]\n",
        "print(\"List of odd numbers:\", odd_list,\"\\n\")\n",
        "\n",
        "even_list = [i for i in range(num) if i%2==0]\n",
        "print(\"List of odd numbers:\", even_list,\"\\n\")\n",
        "\n",
        "fruits = ['apple', 'banana', 'mango', 'papaya', 'grapes']\n",
        "Fruits = [x[0].upper()+x[1:] for x in fruits]\n",
        "print((\"Fruits as proper nouns :\", Fruits))"
      ],
      "metadata": {
        "colab": {
          "base_uri": "https://localhost:8080/"
        },
        "id": "7Nk0PRS_w1KL",
        "outputId": "fce44dee-2004-4284-a5af-b037b208a0d8"
      },
      "execution_count": 40,
      "outputs": [
        {
          "output_type": "stream",
          "name": "stdout",
          "text": [
            "You want odd and even numbers under what value? : 9\n",
            "List of odd numbers: [1, 3, 5, 7] \n",
            "\n",
            "List of odd numbers: [0, 2, 4, 6, 8] \n",
            "\n",
            "('Fruits as proper nouns :', ['Apple', 'Banana', 'Mango', 'Papaya', 'Grapes'])\n"
          ]
        }
      ]
    },
    {
      "cell_type": "markdown",
      "source": [
        "Class 6 - Password generator"
      ],
      "metadata": {
        "id": "afNuUDPOw7Xh"
      }
    },
    {
      "cell_type": "code",
      "source": [
        "import random\n",
        "\n",
        "#A function do shuffle all the characters of a string\n",
        "def shuffle(string):\n",
        "  tempList = list(string)\n",
        "  random.shuffle(tempList)\n",
        "  return ''.join(tempList)\n",
        "\n",
        "#Main program starts here\n",
        "uppercaseLetter1=chr(random.randint(65,90))\n",
        "uppercaseLetter2=chr(random.randint(65,90))\n",
        "uppercaseLetter3=chr(random.randint(65,90))\n",
        "uppercaseLetter4=chr(random.randint(65,90))\n",
        "uppercaseLetter5=chr(random.randint(65,90))\n",
        "uppercaseLetter6=chr(random.randint(65,90))\n",
        "password = uppercaseLetter1 + uppercaseLetter2+uppercaseLetter3+ uppercaseLetter4+uppercaseLetter5+uppercaseLetter6\n",
        "password = shuffle(password)\n",
        "\n",
        "\n",
        "print(password)"
      ],
      "metadata": {
        "colab": {
          "base_uri": "https://localhost:8080/"
        },
        "id": "LvqCYj3FxBHR",
        "outputId": "e90d47be-2f66-4836-bca5-1b1bc60f6dff"
      },
      "execution_count": 44,
      "outputs": [
        {
          "output_type": "stream",
          "name": "stdout",
          "text": [
            "ATKPWW\n"
          ]
        }
      ]
    }
  ]
}